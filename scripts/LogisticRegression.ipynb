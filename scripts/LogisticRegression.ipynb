{
 "cells": [
  {
   "cell_type": "code",
   "execution_count": 1,
   "id": "7bf057c2",
   "metadata": {
    "scrolled": true
   },
   "outputs": [],
   "source": [
    "#import pandas\n",
    "import pandas as pd\n",
    "import numpy as np\n",
    "# load dataset\n",
    "pima = pd.read_csv(\"pop_snps.csv\")"
   ]
  },
  {
   "cell_type": "code",
   "execution_count": 2,
   "id": "4900b4e1",
   "metadata": {},
   "outputs": [
    {
     "data": {
      "text/html": [
       "<div>\n",
       "<style scoped>\n",
       "    .dataframe tbody tr th:only-of-type {\n",
       "        vertical-align: middle;\n",
       "    }\n",
       "\n",
       "    .dataframe tbody tr th {\n",
       "        vertical-align: top;\n",
       "    }\n",
       "\n",
       "    .dataframe thead th {\n",
       "        text-align: right;\n",
       "    }\n",
       "</style>\n",
       "<table border=\"1\" class=\"dataframe\">\n",
       "  <thead>\n",
       "    <tr style=\"text-align: right;\">\n",
       "      <th></th>\n",
       "      <th>subject</th>\n",
       "      <th>phenotype</th>\n",
       "      <th>rs1003306_A</th>\n",
       "      <th>rs1003306_T</th>\n",
       "      <th>rs1003306_C</th>\n",
       "      <th>rs1003306_G</th>\n",
       "      <th>rs1011340_A</th>\n",
       "      <th>rs1011340_T</th>\n",
       "      <th>rs1011340_C</th>\n",
       "      <th>rs1011340_G</th>\n",
       "      <th>...</th>\n",
       "      <th>rs986642_C</th>\n",
       "      <th>rs986642_G</th>\n",
       "      <th>rs998401_A</th>\n",
       "      <th>rs998401_T</th>\n",
       "      <th>rs998401_C</th>\n",
       "      <th>rs998401_G</th>\n",
       "      <th>rs9993173_A</th>\n",
       "      <th>rs9993173_T</th>\n",
       "      <th>rs9993173_C</th>\n",
       "      <th>rs9993173_G</th>\n",
       "    </tr>\n",
       "  </thead>\n",
       "  <tbody>\n",
       "    <tr>\n",
       "      <th>0</th>\n",
       "      <td>hu91BD69</td>\n",
       "      <td>1</td>\n",
       "      <td>0</td>\n",
       "      <td>0</td>\n",
       "      <td>0</td>\n",
       "      <td>0</td>\n",
       "      <td>1</td>\n",
       "      <td>0</td>\n",
       "      <td>1</td>\n",
       "      <td>0</td>\n",
       "      <td>...</td>\n",
       "      <td>1</td>\n",
       "      <td>1</td>\n",
       "      <td>0</td>\n",
       "      <td>0</td>\n",
       "      <td>0</td>\n",
       "      <td>0</td>\n",
       "      <td>0</td>\n",
       "      <td>1</td>\n",
       "      <td>0</td>\n",
       "      <td>1</td>\n",
       "    </tr>\n",
       "    <tr>\n",
       "      <th>1</th>\n",
       "      <td>hu42B208</td>\n",
       "      <td>0</td>\n",
       "      <td>0</td>\n",
       "      <td>0</td>\n",
       "      <td>0</td>\n",
       "      <td>0</td>\n",
       "      <td>0</td>\n",
       "      <td>0</td>\n",
       "      <td>2</td>\n",
       "      <td>0</td>\n",
       "      <td>...</td>\n",
       "      <td>1</td>\n",
       "      <td>1</td>\n",
       "      <td>0</td>\n",
       "      <td>0</td>\n",
       "      <td>0</td>\n",
       "      <td>0</td>\n",
       "      <td>0</td>\n",
       "      <td>2</td>\n",
       "      <td>0</td>\n",
       "      <td>0</td>\n",
       "    </tr>\n",
       "    <tr>\n",
       "      <th>2</th>\n",
       "      <td>huBFEDCE</td>\n",
       "      <td>1</td>\n",
       "      <td>0</td>\n",
       "      <td>0</td>\n",
       "      <td>0</td>\n",
       "      <td>0</td>\n",
       "      <td>0</td>\n",
       "      <td>0</td>\n",
       "      <td>2</td>\n",
       "      <td>0</td>\n",
       "      <td>...</td>\n",
       "      <td>2</td>\n",
       "      <td>0</td>\n",
       "      <td>0</td>\n",
       "      <td>0</td>\n",
       "      <td>0</td>\n",
       "      <td>0</td>\n",
       "      <td>0</td>\n",
       "      <td>2</td>\n",
       "      <td>0</td>\n",
       "      <td>0</td>\n",
       "    </tr>\n",
       "    <tr>\n",
       "      <th>3</th>\n",
       "      <td>hu7AC640</td>\n",
       "      <td>1</td>\n",
       "      <td>0</td>\n",
       "      <td>0</td>\n",
       "      <td>0</td>\n",
       "      <td>0</td>\n",
       "      <td>1</td>\n",
       "      <td>0</td>\n",
       "      <td>1</td>\n",
       "      <td>0</td>\n",
       "      <td>...</td>\n",
       "      <td>2</td>\n",
       "      <td>0</td>\n",
       "      <td>0</td>\n",
       "      <td>0</td>\n",
       "      <td>0</td>\n",
       "      <td>0</td>\n",
       "      <td>0</td>\n",
       "      <td>1</td>\n",
       "      <td>0</td>\n",
       "      <td>1</td>\n",
       "    </tr>\n",
       "    <tr>\n",
       "      <th>4</th>\n",
       "      <td>huA3A815</td>\n",
       "      <td>1</td>\n",
       "      <td>0</td>\n",
       "      <td>0</td>\n",
       "      <td>0</td>\n",
       "      <td>0</td>\n",
       "      <td>0</td>\n",
       "      <td>0</td>\n",
       "      <td>2</td>\n",
       "      <td>0</td>\n",
       "      <td>...</td>\n",
       "      <td>1</td>\n",
       "      <td>1</td>\n",
       "      <td>0</td>\n",
       "      <td>0</td>\n",
       "      <td>0</td>\n",
       "      <td>0</td>\n",
       "      <td>0</td>\n",
       "      <td>2</td>\n",
       "      <td>0</td>\n",
       "      <td>0</td>\n",
       "    </tr>\n",
       "  </tbody>\n",
       "</table>\n",
       "<p>5 rows × 1202 columns</p>\n",
       "</div>"
      ],
      "text/plain": [
       "    subject  phenotype  rs1003306_A  rs1003306_T  rs1003306_C  rs1003306_G  \\\n",
       "0  hu91BD69          1            0            0            0            0   \n",
       "1  hu42B208          0            0            0            0            0   \n",
       "2  huBFEDCE          1            0            0            0            0   \n",
       "3  hu7AC640          1            0            0            0            0   \n",
       "4  huA3A815          1            0            0            0            0   \n",
       "\n",
       "   rs1011340_A  rs1011340_T  rs1011340_C  rs1011340_G  ...  rs986642_C  \\\n",
       "0            1            0            1            0  ...           1   \n",
       "1            0            0            2            0  ...           1   \n",
       "2            0            0            2            0  ...           2   \n",
       "3            1            0            1            0  ...           2   \n",
       "4            0            0            2            0  ...           1   \n",
       "\n",
       "   rs986642_G  rs998401_A  rs998401_T  rs998401_C  rs998401_G  rs9993173_A  \\\n",
       "0           1           0           0           0           0            0   \n",
       "1           1           0           0           0           0            0   \n",
       "2           0           0           0           0           0            0   \n",
       "3           0           0           0           0           0            0   \n",
       "4           1           0           0           0           0            0   \n",
       "\n",
       "   rs9993173_T  rs9993173_C  rs9993173_G  \n",
       "0            1            0            1  \n",
       "1            2            0            0  \n",
       "2            2            0            0  \n",
       "3            1            0            1  \n",
       "4            2            0            0  \n",
       "\n",
       "[5 rows x 1202 columns]"
      ]
     },
     "execution_count": 2,
     "metadata": {},
     "output_type": "execute_result"
    }
   ],
   "source": [
    "pima.head()"
   ]
  },
  {
   "cell_type": "code",
   "execution_count": 3,
   "id": "6d89b6dd",
   "metadata": {},
   "outputs": [
    {
     "data": {
      "text/plain": [
       "0     hu91BD69\n",
       "1     hu42B208\n",
       "2     huBFEDCE\n",
       "3     hu7AC640\n",
       "4     huA3A815\n",
       "5     hu409F2D\n",
       "6     hu6E9C24\n",
       "7     hu41ED75\n",
       "8     huD83C6C\n",
       "9     hu993257\n",
       "10    hu5F0DCB\n",
       "11    huBE8E0C\n",
       "12    hu3F864B\n",
       "13    hu606C9D\n",
       "14    hu82436A\n",
       "15    huB828CB\n",
       "16    hu43860C\n",
       "17    huDDE04F\n",
       "18    huF99A55\n",
       "19    hu0B51B8\n",
       "20    hu00147A\n",
       "21    hu345185\n",
       "22    hu448C4B\n",
       "23    huDDEC1D\n",
       "24    hu7ECB9C\n",
       "25    hu83E9B9\n",
       "26    hu459AD0\n",
       "27    huA5FD8B\n",
       "28    huC4F2BB\n",
       "29    hu39D07D\n",
       "30    hu44DCFF\n",
       "31    hu84B706\n",
       "32    hu48C4EB\n",
       "Name: subject, dtype: object"
      ]
     },
     "execution_count": 3,
     "metadata": {},
     "output_type": "execute_result"
    }
   ],
   "source": [
    "pima['subject']"
   ]
  },
  {
   "cell_type": "code",
   "execution_count": 8,
   "id": "a561662a",
   "metadata": {},
   "outputs": [
    {
     "name": "stdout",
     "output_type": "stream",
     "text": [
      "['phenotype', 'rs1003306_A', 'rs1003306_T', 'rs1003306_C', 'rs1003306_G', 'rs1011340_A', 'rs1011340_T', 'rs1011340_C', 'rs1011340_G', 'rs1024487_A', 'rs1024487_T', 'rs1024487_C', 'rs1024487_G', 'rs10255965_A', 'rs10255965_T', 'rs10255965_C', 'rs10255965_G', 'rs1032143_A', 'rs1032143_T', 'rs1032143_C', 'rs1032143_G', 'rs1032355_A', 'rs1032355_T', 'rs1032355_C', 'rs1032355_G', 'rs103294_A', 'rs103294_T', 'rs103294_C', 'rs103294_G', 'rs10431948_A', 'rs10431948_T', 'rs10431948_C', 'rs10431948_G', 'rs1045873_A', 'rs1045873_T', 'rs1045873_C', 'rs1045873_G', 'rs10458810_A', 'rs10458810_T', 'rs10458810_C', 'rs10458810_G', 'rs10460810_A', 'rs10460810_T', 'rs10460810_C', 'rs10460810_G', 'rs10483853_A', 'rs10483853_T', 'rs10483853_C', 'rs10483853_G', 'rs10484547_A', 'rs10484547_T', 'rs10484547_C', 'rs10484547_G', 'rs10486207_A', 'rs10486207_T', 'rs10486207_C', 'rs10486207_G', 'rs10493430_A', 'rs10493430_T', 'rs10493430_C', 'rs10493430_G', 'rs10494870_A', 'rs10494870_T', 'rs10494870_C', 'rs10494870_G', 'rs10495413_A', 'rs10495413_T', 'rs10495413_C', 'rs10495413_G', 'rs10496610_A', 'rs10496610_T', 'rs10496610_C', 'rs10496610_G', 'rs10497233_A', 'rs10497233_T', 'rs10497233_C', 'rs10497233_G', 'rs10503341_A', 'rs10503341_T', 'rs10503341_C', 'rs10503341_G', 'rs10504275_A', 'rs10504275_T', 'rs10504275_C', 'rs10504275_G', 'rs10504924_A', 'rs10504924_T', 'rs10504924_C', 'rs10504924_G', 'rs10506555_A', 'rs10506555_T', 'rs10506555_C', 'rs10506555_G', 'rs10507632_A', 'rs10507632_T', 'rs10507632_C', 'rs10507632_G', 'rs10508208_A', 'rs10508208_T', 'rs10508208_C', 'rs10508208_G', 'rs10508372_A', 'rs10508372_T', 'rs10508372_C', 'rs10508372_G', 'rs10509384_A', 'rs10509384_T', 'rs10509384_C', 'rs10509384_G', 'rs10509954_A', 'rs10509954_T', 'rs10509954_C', 'rs10509954_G', 'rs10511418_A', 'rs10511418_T', 'rs10511418_C', 'rs10511418_G', 'rs10512122_A', 'rs10512122_T', 'rs10512122_C', 'rs10512122_G', 'rs10516096_A', 'rs10516096_T', 'rs10516096_C', 'rs10516096_G', 'rs10516982_A', 'rs10516982_T', 'rs10516982_C', 'rs10516982_G', 'rs10517807_A', 'rs10517807_T', 'rs10517807_C', 'rs10517807_G', 'rs10519269_A', 'rs10519269_T', 'rs10519269_C', 'rs10519269_G', 'rs10520475_A', 'rs10520475_T', 'rs10520475_C', 'rs10520475_G', 'rs1065674_A', 'rs1065674_T', 'rs1065674_C', 'rs1065674_G', 'rs1073321_A', 'rs1073321_T', 'rs1073321_C', 'rs1073321_G', 'rs10762340_A', 'rs10762340_T', 'rs10762340_C', 'rs10762340_G', 'rs10825992_A', 'rs10825992_T', 'rs10825992_C', 'rs10825992_G', 'rs10853962_A', 'rs10853962_T', 'rs10853962_C', 'rs10853962_G', 'rs10868791_A', 'rs10868791_T', 'rs10868791_C', 'rs10868791_G', 'rs1107820_A', 'rs1107820_T', 'rs1107820_C', 'rs1107820_G', 'rs11135979_A', 'rs11135979_T', 'rs11135979_C', 'rs11135979_G', 'rs1118962_A', 'rs1118962_T', 'rs1118962_C', 'rs1118962_G', 'rs11245545_A', 'rs11245545_T', 'rs11245545_C', 'rs11245545_G', 'rs11248060_A', 'rs11248060_T', 'rs11248060_C', 'rs11248060_G', 'rs11259206_A', 'rs11259206_T', 'rs11259206_C', 'rs11259206_G', 'rs1129038_A', 'rs1129038_T', 'rs1129038_C', 'rs1129038_G', 'rs1157492_A', 'rs1157492_T', 'rs1157492_C', 'rs1157492_G', 'rs11586379_A', 'rs11586379_T', 'rs11586379_C', 'rs11586379_G', 'rs11713873_A', 'rs11713873_T', 'rs11713873_C', 'rs11713873_G', 'rs11744977_A', 'rs11744977_T', 'rs11744977_C', 'rs11744977_G', 'rs11807062_A', 'rs11807062_T', 'rs11807062_C', 'rs11807062_G', 'rs11809986_A', 'rs11809986_T', 'rs11809986_C', 'rs11809986_G', 'rs11854557_A', 'rs11854557_T', 'rs11854557_C', 'rs11854557_G', 'rs1197070_A', 'rs1197070_T', 'rs1197070_C', 'rs1197070_G', 'rs12251462_A', 'rs12251462_T', 'rs12251462_C', 'rs12251462_G', 'rs12297055_A', 'rs12297055_T', 'rs12297055_C', 'rs12297055_G', 'rs12430668_A', 'rs12430668_T', 'rs12430668_C', 'rs12430668_G', 'rs12441220_A', 'rs12441220_T', 'rs12441220_C', 'rs12441220_G', 'rs12500040_A', 'rs12500040_T', 'rs12500040_C', 'rs12500040_G', 'rs12502036_A', 'rs12502036_T', 'rs12502036_C', 'rs12502036_G', 'rs12645879_A', 'rs12645879_T', 'rs12645879_C', 'rs12645879_G', 'rs12706769_A', 'rs12706769_T', 'rs12706769_C', 'rs12706769_G', 'rs12713956_A', 'rs12713956_T', 'rs12713956_C', 'rs12713956_G', 'rs13008_A', 'rs13008_T', 'rs13008_C', 'rs13008_G', 'rs13084044_A', 'rs13084044_T', 'rs13084044_C', 'rs13084044_G', 'rs132549_A', 'rs132549_T', 'rs132549_C', 'rs132549_G', 'rs1352411_A', 'rs1352411_T', 'rs1352411_C', 'rs1352411_G', 'rs1355170_A', 'rs1355170_T', 'rs1355170_C', 'rs1355170_G', 'rs1364394_A', 'rs1364394_T', 'rs1364394_C', 'rs1364394_G', 'rs1373557_A', 'rs1373557_T', 'rs1373557_C', 'rs1373557_G', 'rs1381795_A', 'rs1381795_T', 'rs1381795_C', 'rs1381795_G', 'rs1389560_A', 'rs1389560_T', 'rs1389560_C', 'rs1389560_G', 'rs1400174_A', 'rs1400174_T', 'rs1400174_C', 'rs1400174_G', 'rs1408794_A', 'rs1408794_T', 'rs1408794_C', 'rs1408794_G', 'rs1410418_A', 'rs1410418_T', 'rs1410418_C', 'rs1410418_G', 'rs1416467_A', 'rs1416467_T', 'rs1416467_C', 'rs1416467_G', 'rs1435090_A', 'rs1435090_T', 'rs1435090_C', 'rs1435090_G', 'rs1435260_A', 'rs1435260_T', 'rs1435260_C', 'rs1435260_G', 'rs1444261_A', 'rs1444261_T', 'rs1444261_C', 'rs1444261_G', 'rs1448314_A', 'rs1448314_T', 'rs1448314_C', 'rs1448314_G', 'rs1462368_A', 'rs1462368_T', 'rs1462368_C', 'rs1462368_G', 'rs1476162_A', 'rs1476162_T', 'rs1476162_C', 'rs1476162_G', 'rs1517407_A', 'rs1517407_T', 'rs1517407_C', 'rs1517407_G', 'rs1531746_A', 'rs1531746_T', 'rs1531746_C', 'rs1531746_G', 'rs153595_A', 'rs153595_T', 'rs153595_C', 'rs153595_G', 'rs1560569_A', 'rs1560569_T', 'rs1560569_C', 'rs1560569_G', 'rs1582398_A', 'rs1582398_T', 'rs1582398_C', 'rs1582398_G', 'rs1598452_A', 'rs1598452_T', 'rs1598452_C', 'rs1598452_G', 'rs163018_A', 'rs163018_T', 'rs163018_C', 'rs163018_G', 'rs1660964_A', 'rs1660964_T', 'rs1660964_C', 'rs1660964_G', 'rs16891982_A', 'rs16891982_T', 'rs16891982_C', 'rs16891982_G', 'rs16922018_A', 'rs16922018_T', 'rs16922018_C', 'rs16922018_G', 'rs17000399_A', 'rs17000399_T', 'rs17000399_C', 'rs17000399_G', 'rs17026435_A', 'rs17026435_T', 'rs17026435_C', 'rs17026435_G', 'rs17030228_A', 'rs17030228_T', 'rs17030228_C', 'rs17030228_G', 'rs17079195_A', 'rs17079195_T', 'rs17079195_C', 'rs17079195_G', 'rs1710807_A', 'rs1710807_T', 'rs1710807_C', 'rs1710807_G', 'rs17149147_A', 'rs17149147_T', 'rs17149147_C', 'rs17149147_G', 'rs17310125_A', 'rs17310125_T', 'rs17310125_C', 'rs17310125_G', 'rs1743789_A', 'rs1743789_T', 'rs1743789_C', 'rs1743789_G', 'rs17439723_A', 'rs17439723_T', 'rs17439723_C', 'rs17439723_G', 'rs17443616_A', 'rs17443616_T', 'rs17443616_C', 'rs17443616_G', 'rs17457687_A', 'rs17457687_T', 'rs17457687_C', 'rs17457687_G', 'rs17583830_A', 'rs17583830_T', 'rs17583830_C', 'rs17583830_G', 'rs1777689_A', 'rs1777689_T', 'rs1777689_C', 'rs1777689_G', 'rs17799799_A', 'rs17799799_T', 'rs17799799_C', 'rs17799799_G', 'rs17864053_A', 'rs17864053_T', 'rs17864053_C', 'rs17864053_G', 'rs1854226_A', 'rs1854226_T', 'rs1854226_C', 'rs1854226_G', 'rs1870590_A', 'rs1870590_T', 'rs1870590_C', 'rs1870590_G', 'rs1873195_A', 'rs1873195_T', 'rs1873195_C', 'rs1873195_G', 'rs1879558_A', 'rs1879558_T', 'rs1879558_C', 'rs1879558_G', 'rs1890131_A', 'rs1890131_T', 'rs1890131_C', 'rs1890131_G', 'rs1904406_A', 'rs1904406_T', 'rs1904406_C', 'rs1904406_G', 'rs1905135_A', 'rs1905135_T', 'rs1905135_C', 'rs1905135_G', 'rs1922086_A', 'rs1922086_T', 'rs1922086_C', 'rs1922086_G', 'rs1922286_A', 'rs1922286_T', 'rs1922286_C', 'rs1922286_G', 'rs1976033_A', 'rs1976033_T', 'rs1976033_C', 'rs1976033_G', 'rs1984282_A', 'rs1984282_T', 'rs1984282_C', 'rs1984282_G', 'rs1991718_A', 'rs1991718_T', 'rs1991718_C', 'rs1991718_G', 'rs1994952_A', 'rs1994952_T', 'rs1994952_C', 'rs1994952_G', 'rs2003092_A', 'rs2003092_T', 'rs2003092_C', 'rs2003092_G', 'rs2014303_A', 'rs2014303_T', 'rs2014303_C', 'rs2014303_G', 'rs202546_A', 'rs202546_T', 'rs202546_C', 'rs202546_G', 'rs2047058_A', 'rs2047058_T', 'rs2047058_C', 'rs2047058_G', 'rs2063092_A', 'rs2063092_T', 'rs2063092_C', 'rs2063092_G', 'rs2086085_A', 'rs2086085_T', 'rs2086085_C', 'rs2086085_G', 'rs2097884_A', 'rs2097884_T', 'rs2097884_C', 'rs2097884_G', 'rs2154328_A', 'rs2154328_T', 'rs2154328_C', 'rs2154328_G', 'rs2171209_A', 'rs2171209_T', 'rs2171209_C', 'rs2171209_G', 'rs2176246_A', 'rs2176246_T', 'rs2176246_C', 'rs2176246_G', 'rs217627_A', 'rs217627_T', 'rs217627_C', 'rs217627_G', 'rs2187684_A', 'rs2187684_T', 'rs2187684_C', 'rs2187684_G', 'rs2219248_A', 'rs2219248_T', 'rs2219248_C', 'rs2219248_G', 'rs2236876_A', 'rs2236876_T', 'rs2236876_C', 'rs2236876_G', 'rs2241332_A', 'rs2241332_T', 'rs2241332_C', 'rs2241332_G', 'rs224378_A', 'rs224378_T', 'rs224378_C', 'rs224378_G', 'rs2251432_A', 'rs2251432_T', 'rs2251432_C', 'rs2251432_G', 'rs2252815_A', 'rs2252815_T', 'rs2252815_C', 'rs2252815_G', 'rs2285369_A', 'rs2285369_T', 'rs2285369_C', 'rs2285369_G', 'rs2287101_A', 'rs2287101_T', 'rs2287101_C', 'rs2287101_G', 'rs2363127_A', 'rs2363127_T', 'rs2363127_C', 'rs2363127_G', 'rs2366687_A', 'rs2366687_T', 'rs2366687_C', 'rs2366687_G', 'rs2367191_A', 'rs2367191_T', 'rs2367191_C', 'rs2367191_G', 'rs2377689_A', 'rs2377689_T', 'rs2377689_C', 'rs2377689_G', 'rs2411128_A', 'rs2411128_T', 'rs2411128_C', 'rs2411128_G', 'rs2418844_A', 'rs2418844_T', 'rs2418844_C', 'rs2418844_G', 'rs2419063_A', 'rs2419063_T', 'rs2419063_C', 'rs2419063_G', 'rs2446653_A', 'rs2446653_T', 'rs2446653_C', 'rs2446653_G', 'rs2547116_A', 'rs2547116_T', 'rs2547116_C', 'rs2547116_G', 'rs2589654_A', 'rs2589654_T', 'rs2589654_C', 'rs2589654_G', 'rs2596501_A', 'rs2596501_T', 'rs2596501_C', 'rs2596501_G', 'rs2596834_A', 'rs2596834_T', 'rs2596834_C', 'rs2596834_G', 'rs262216_A', 'rs262216_T', 'rs262216_C', 'rs262216_G', 'rs2685159_A', 'rs2685159_T', 'rs2685159_C', 'rs2685159_G', 'rs2728945_A', 'rs2728945_T', 'rs2728945_C', 'rs2728945_G', 'rs273747_A', 'rs273747_T', 'rs273747_C', 'rs273747_G', 'rs2793471_A', 'rs2793471_T', 'rs2793471_C', 'rs2793471_G', 'rs2804756_A', 'rs2804756_T', 'rs2804756_C', 'rs2804756_G', 'rs284509_A', 'rs284509_T', 'rs284509_C', 'rs284509_G', 'rs2847502_A', 'rs2847502_T', 'rs2847502_C', 'rs2847502_G', 'rs2905347_A', 'rs2905347_T', 'rs2905347_C', 'rs2905347_G', 'rs3007711_A', 'rs3007711_T', 'rs3007711_C', 'rs3007711_G', 'rs313478_A', 'rs313478_T', 'rs313478_C', 'rs313478_G', 'rs33706_A', 'rs33706_T', 'rs33706_C', 'rs33706_G', 'rs349187_A', 'rs349187_T', 'rs349187_C', 'rs349187_G', 'rs359291_A', 'rs359291_T', 'rs359291_C', 'rs359291_G', 'rs3764796_A', 'rs3764796_T', 'rs3764796_C', 'rs3764796_G', 'rs3769005_A', 'rs3769005_T', 'rs3769005_C', 'rs3769005_G', 'rs379773_A', 'rs379773_T', 'rs379773_C', 'rs379773_G', 'rs3809125_A', 'rs3809125_T', 'rs3809125_C', 'rs3809125_G', 'rs3822616_A', 'rs3822616_T', 'rs3822616_C', 'rs3822616_G', 'rs3844253_A', 'rs3844253_T', 'rs3844253_C', 'rs3844253_G', 'rs3856744_A', 'rs3856744_T', 'rs3856744_C', 'rs3856744_G', 'rs3927745_A', 'rs3927745_T', 'rs3927745_C', 'rs3927745_G', 'rs40459_A', 'rs40459_T', 'rs40459_C', 'rs40459_G', 'rs4131048_A', 'rs4131048_T', 'rs4131048_C', 'rs4131048_G', 'rs4243408_A', 'rs4243408_T', 'rs4243408_C', 'rs4243408_G', 'rs4254270_A', 'rs4254270_T', 'rs4254270_C', 'rs4254270_G', 'rs4307284_A', 'rs4307284_T', 'rs4307284_C', 'rs4307284_G', 'rs4336881_A', 'rs4336881_T', 'rs4336881_C', 'rs4336881_G', 'rs440431_A', 'rs440431_T', 'rs440431_C', 'rs440431_G', 'rs4554816_A', 'rs4554816_T', 'rs4554816_C', 'rs4554816_G', 'rs4555709_A', 'rs4555709_T', 'rs4555709_C', 'rs4555709_G', 'rs4639533_A', 'rs4639533_T', 'rs4639533_C', 'rs4639533_G', 'rs4642918_A', 'rs4642918_T', 'rs4642918_C', 'rs4642918_G', 'rs4686497_A', 'rs4686497_T', 'rs4686497_C', 'rs4686497_G', 'rs4756052_A', 'rs4756052_T', 'rs4756052_C', 'rs4756052_G', 'rs4770401_A', 'rs4770401_T', 'rs4770401_C', 'rs4770401_G', 'rs4771165_A', 'rs4771165_T', 'rs4771165_C', 'rs4771165_G', 'rs477627_A', 'rs477627_T', 'rs477627_C', 'rs477627_G', 'rs4782202_A', 'rs4782202_T', 'rs4782202_C', 'rs4782202_G', 'rs4787923_A', 'rs4787923_T', 'rs4787923_C', 'rs4787923_G', 'rs4797909_A', 'rs4797909_T', 'rs4797909_C', 'rs4797909_G', 'rs4815707_A', 'rs4815707_T', 'rs4815707_C', 'rs4815707_G', 'rs4832640_A', 'rs4832640_T', 'rs4832640_C', 'rs4832640_G', 'rs4859259_A', 'rs4859259_T', 'rs4859259_C', 'rs4859259_G', 'rs4892082_A', 'rs4892082_T', 'rs4892082_C', 'rs4892082_G', 'rs489381_A', 'rs489381_T', 'rs489381_C', 'rs489381_G', 'rs4938377_A', 'rs4938377_T', 'rs4938377_C', 'rs4938377_G', 'rs495347_A', 'rs495347_T', 'rs495347_C', 'rs495347_G', 'rs4976606_A', 'rs4976606_T', 'rs4976606_C', 'rs4976606_G', 'rs518457_A', 'rs518457_T', 'rs518457_C', 'rs518457_G', 'rs523776_A', 'rs523776_T', 'rs523776_C', 'rs523776_G', 'rs552976_A', 'rs552976_T', 'rs552976_C', 'rs552976_G', 'rs554788_A', 'rs554788_T', 'rs554788_C', 'rs554788_G', 'rs6021183_A', 'rs6021183_T', 'rs6021183_C', 'rs6021183_G', 'rs6028505_A', 'rs6028505_T', 'rs6028505_C', 'rs6028505_G', 'rs605832_A', 'rs605832_T', 'rs605832_C', 'rs605832_G', 'rs6063178_A', 'rs6063178_T', 'rs6063178_C', 'rs6063178_G', 'rs618897_A', 'rs618897_T', 'rs618897_C', 'rs618897_G', 'rs6432110_A', 'rs6432110_T', 'rs6432110_C', 'rs6432110_G', 'rs6432398_A', 'rs6432398_T', 'rs6432398_C', 'rs6432398_G', 'rs6448770_A', 'rs6448770_T', 'rs6448770_C', 'rs6448770_G', 'rs6460989_A', 'rs6460989_T', 'rs6460989_C', 'rs6460989_G', 'rs6477998_A', 'rs6477998_T', 'rs6477998_C', 'rs6477998_G', 'rs6490700_A', 'rs6490700_T', 'rs6490700_C', 'rs6490700_G', 'rs6502048_A', 'rs6502048_T', 'rs6502048_C', 'rs6502048_G', 'rs6511703_A', 'rs6511703_T', 'rs6511703_C', 'rs6511703_G', 'rs6578195_A', 'rs6578195_T', 'rs6578195_C', 'rs6578195_G', 'rs6678209_A', 'rs6678209_T', 'rs6678209_C', 'rs6678209_G', 'rs6687300_A', 'rs6687300_T', 'rs6687300_C', 'rs6687300_G', 'rs6745653_A', 'rs6745653_T', 'rs6745653_C', 'rs6745653_G', 'rs6751522_A', 'rs6751522_T', 'rs6751522_C', 'rs6751522_G', 'rs6841252_A', 'rs6841252_T', 'rs6841252_C', 'rs6841252_G', 'rs6864793_A', 'rs6864793_T', 'rs6864793_C', 'rs6864793_G', 'rs6907950_A', 'rs6907950_T', 'rs6907950_C', 'rs6907950_G', 'rs6911330_A', 'rs6911330_T', 'rs6911330_C', 'rs6911330_G', 'rs6996185_A', 'rs6996185_T', 'rs6996185_C', 'rs6996185_G', 'rs7038314_A', 'rs7038314_T', 'rs7038314_C', 'rs7038314_G', 'rs706397_A', 'rs706397_T', 'rs706397_C', 'rs706397_G', 'rs7108371_A', 'rs7108371_T', 'rs7108371_C', 'rs7108371_G', 'rs7155872_A', 'rs7155872_T', 'rs7155872_C', 'rs7155872_G', 'rs7163907_A', 'rs7163907_T', 'rs7163907_C', 'rs7163907_G', 'rs718387_A', 'rs718387_T', 'rs718387_C', 'rs718387_G', 'rs7188799_A', 'rs7188799_T', 'rs7188799_C', 'rs7188799_G', 'rs725974_A', 'rs725974_T', 'rs725974_C', 'rs725974_G', 'rs7277342_A', 'rs7277342_T', 'rs7277342_C', 'rs7277342_G', 'rs7301622_A', 'rs7301622_T', 'rs7301622_C', 'rs7301622_G', 'rs730566_A', 'rs730566_T', 'rs730566_C', 'rs730566_G', 'rs7306523_A', 'rs7306523_T', 'rs7306523_C', 'rs7306523_G', 'rs7316723_A', 'rs7316723_T', 'rs7316723_C', 'rs7316723_G', 'rs7372209_A', 'rs7372209_T', 'rs7372209_C', 'rs7372209_G', 'rs7501724_A', 'rs7501724_T', 'rs7501724_C', 'rs7501724_G', 'rs7551844_A', 'rs7551844_T', 'rs7551844_C', 'rs7551844_G', 'rs7552548_A', 'rs7552548_T', 'rs7552548_C', 'rs7552548_G', 'rs756147_A', 'rs756147_T', 'rs756147_C', 'rs756147_G', 'rs7561808_A', 'rs7561808_T', 'rs7561808_C', 'rs7561808_G', 'rs7598757_A', 'rs7598757_T', 'rs7598757_C', 'rs7598757_G', 'rs7637803_A', 'rs7637803_T', 'rs7637803_C', 'rs7637803_G', 'rs764255_A', 'rs764255_T', 'rs764255_C', 'rs764255_G', 'rs7679675_A', 'rs7679675_T', 'rs7679675_C', 'rs7679675_G', 'rs7689609_A', 'rs7689609_T', 'rs7689609_C', 'rs7689609_G', 'rs7699090_A', 'rs7699090_T', 'rs7699090_C', 'rs7699090_G', 'rs7759856_A', 'rs7759856_T', 'rs7759856_C', 'rs7759856_G', 'rs777710_A', 'rs777710_T', 'rs777710_C', 'rs777710_G', 'rs7819806_A', 'rs7819806_T', 'rs7819806_C', 'rs7819806_G', 'rs7900067_A', 'rs7900067_T', 'rs7900067_C', 'rs7900067_G', 'rs7908825_A', 'rs7908825_T', 'rs7908825_C', 'rs7908825_G', 'rs7920193_A', 'rs7920193_T', 'rs7920193_C', 'rs7920193_G', 'rs7965049_A', 'rs7965049_T', 'rs7965049_C', 'rs7965049_G', 'rs7975512_A', 'rs7975512_T', 'rs7975512_C', 'rs7975512_G', 'rs7983897_A', 'rs7983897_T', 'rs7983897_C', 'rs7983897_G', 'rs7997100_A', 'rs7997100_T', 'rs7997100_C', 'rs7997100_G', 'rs8016025_A', 'rs8016025_T', 'rs8016025_C', 'rs8016025_G', 'rs8029021_A', 'rs8029021_T', 'rs8029021_C', 'rs8029021_G', 'rs8040452_A', 'rs8040452_T', 'rs8040452_C', 'rs8040452_G', 'rs8041327_A', 'rs8041327_T', 'rs8041327_C', 'rs8041327_G', 'rs8056707_A', 'rs8056707_T', 'rs8056707_C', 'rs8056707_G', 'rs8060233_A', 'rs8060233_T', 'rs8060233_C', 'rs8060233_G', 'rs8078782_A', 'rs8078782_T', 'rs8078782_C', 'rs8078782_G', 'rs822759_A', 'rs822759_T', 'rs822759_C', 'rs822759_G', 'rs838958_A', 'rs838958_T', 'rs838958_C', 'rs838958_G', 'rs847851_A', 'rs847851_T', 'rs847851_C', 'rs847851_G', 'rs881433_A', 'rs881433_T', 'rs881433_C', 'rs881433_G', 'rs90213_A', 'rs90213_T', 'rs90213_C', 'rs90213_G', 'rs914505_A', 'rs914505_T', 'rs914505_C', 'rs914505_G', 'rs920559_A', 'rs920559_T', 'rs920559_C', 'rs920559_G', 'rs920590_A', 'rs920590_T', 'rs920590_C', 'rs920590_G', 'rs923031_A', 'rs923031_T', 'rs923031_C', 'rs923031_G', 'rs9285474_A', 'rs9285474_T', 'rs9285474_C', 'rs9285474_G', 'rs9290675_A', 'rs9290675_T', 'rs9290675_C', 'rs9290675_G', 'rs9323490_A', 'rs9323490_T', 'rs9323490_C', 'rs9323490_G', 'rs9328764_A', 'rs9328764_T', 'rs9328764_C', 'rs9328764_G', 'rs9435_A', 'rs9435_T', 'rs9435_C', 'rs9435_G', 'rs951412_A', 'rs951412_T', 'rs951412_C', 'rs951412_G', 'rs9562047_A', 'rs9562047_T', 'rs9562047_C', 'rs9562047_G', 'rs9576338_A', 'rs9576338_T', 'rs9576338_C', 'rs9576338_G', 'rs959260_A', 'rs959260_T', 'rs959260_C', 'rs959260_G', 'rs959567_A', 'rs959567_T', 'rs959567_C', 'rs959567_G', 'rs959763_A', 'rs959763_T', 'rs959763_C', 'rs959763_G', 'rs969539_A', 'rs969539_T', 'rs969539_C', 'rs969539_G', 'rs974020_A', 'rs974020_T', 'rs974020_C', 'rs974020_G', 'rs9811612_A', 'rs9811612_T', 'rs9811612_C', 'rs9811612_G', 'rs9860730_A', 'rs9860730_T', 'rs9860730_C', 'rs9860730_G', 'rs9861816_A', 'rs9861816_T', 'rs9861816_C', 'rs9861816_G', 'rs986642_A', 'rs986642_T', 'rs986642_C', 'rs986642_G', 'rs998401_A', 'rs998401_T', 'rs998401_C', 'rs998401_G', 'rs9993173_A', 'rs9993173_T', 'rs9993173_C']\n"
     ]
    }
   ],
   "source": [
    "#split dataset in features and target variable\n",
    "feature_cols = list(pima.columns)\n",
    "feature_cols = feature_cols[1:-1]\n",
    "print(feature_cols)"
   ]
  },
  {
   "cell_type": "code",
   "execution_count": 9,
   "id": "81e84a5c",
   "metadata": {},
   "outputs": [],
   "source": [
    "X = pima[feature_cols] # Features\n",
    "y = pima['phenotype'] # Target variable"
   ]
  },
  {
   "cell_type": "code",
   "execution_count": 37,
   "id": "a01e7011",
   "metadata": {},
   "outputs": [
    {
     "data": {
      "image/png": "[encoded data removed]",
      "text/plain": [
       "<Figure size 432x288 with 1 Axes>"
      ]
     },
     "metadata": {
      "needs_background": "light"
     },
     "output_type": "display_data"
    }
   ],
   "source": [
    "import numpy as np    \n",
    "from sklearn.linear_model import LogisticRegression\n",
    "from sklearn.preprocessing import StandardScaler\n",
    "import pandas as pd\n",
    "import matplotlib.pyplot as plt\n",
    "\n",
    "#Scale your data\n",
    "scaler = StandardScaler()\n",
    "scaler.fit(X) \n",
    "X_scaled = pd.DataFrame(scaler.transform(X),columns = X.columns)\n",
    "\n",
    "clf = LogisticRegression(random_state = 0)\n",
    "clf.fit(X_scaled, y)\n",
    "\n",
    "feature_importance = abs(clf.coef_[0])\n",
    "feature_importance = 100.0 * (feature_importance / feature_importance.max())\n",
    "sorted_idx = np.argsort(feature_importance)\n",
    "pos = np.arange(sorted_idx.shape[0]) + .5\n",
    "\n",
    "pos = pos[-10:-1]\n",
    "sorted_idx = sorted_idx[-10:-1]\n",
    "featfig = plt.figure()\n",
    "featax = featfig.add_subplot(1, 1, 1)\n",
    "featax.barh(pos, feature_importance[sorted_idx], align='center')\n",
    "featax.set_yticks(pos)\n",
    "featax.set_yticklabels(np.array(X.columns)[sorted_idx], fontsize=8)\n",
    "featax.set_xlabel('Relative Feature Importance')\n",
    "\n",
    "plt.tight_layout()   \n",
    "plt.show()"
   ]
  },
  {
   "cell_type": "code",
   "execution_count": 19,
   "id": "633b9ca4",
   "metadata": {},
   "outputs": [],
   "source": [
    "# split X and y into training and testing sets\n",
    "from sklearn.model_selection import train_test_split\n",
    "\n",
    "X_train, X_test, y_train, y_test = train_test_split(X, y, test_size=0.25, random_state=16)"
   ]
  },
  {
   "cell_type": "code",
   "execution_count": 20,
   "id": "c2e8fe03",
   "metadata": {},
   "outputs": [],
   "source": [
    "# import the class\n",
    "from sklearn.linear_model import LogisticRegression\n",
    "\n",
    "# instantiate the model (using the default parameters)\n",
    "logreg = LogisticRegression(random_state=16)\n",
    "\n",
    "# fit the model with data\n",
    "logreg.fit(X_train, y_train)\n",
    "\n",
    "y_pred = logreg.predict(X_test)"
   ]
  },
  {
   "cell_type": "code",
   "execution_count": 32,
   "id": "2bb220f8",
   "metadata": {},
   "outputs": [
    {
     "name": "stdout",
     "output_type": "stream",
     "text": [
      "[[-0.23576534 -0.19219337 -0.17498492 ...  0.20981111  0.23577696\n",
      "   0.33757191]]\n"
     ]
    }
   ],
   "source": [
    "coef = logreg.coef_\n",
    "print(coef)"
   ]
  },
  {
   "cell_type": "code",
   "execution_count": 31,
   "id": "6b966a19",
   "metadata": {},
   "outputs": [
    {
     "name": "stdout",
     "output_type": "stream",
     "text": [
      "[[-0.23576534 -0.19219337 -0.17498492 ...  0.20981111  0.23577696\n",
      "   0.33757191]]\n"
     ]
    }
   ],
   "source": [
    "coef.sort()\n",
    "print(coef)"
   ]
  },
  {
   "cell_type": "code",
   "execution_count": 21,
   "id": "15bea390",
   "metadata": {},
   "outputs": [
    {
     "data": {
      "text/plain": [
       "array([[3, 0],\n",
       "       [1, 5]], dtype=int64)"
      ]
     },
     "execution_count": 21,
     "metadata": {},
     "output_type": "execute_result"
    }
   ],
   "source": [
    "# import the metrics class\n",
    "from sklearn import metrics\n",
    "\n",
    "cnf_matrix = metrics.confusion_matrix(y_test, y_pred)\n",
    "cnf_matrix"
   ]
  },
  {
   "cell_type": "code",
   "execution_count": 22,
   "id": "032a9c90",
   "metadata": {},
   "outputs": [
    {
     "data": {
      "text/plain": [
       "Text(0.5, 257.44, 'Predicted label')"
      ]
     },
     "execution_count": 22,
     "metadata": {},
     "output_type": "execute_result"
    },
    {
     "data": {
      "image/png": "[encoded data removed]",
      "text/plain": [
       "<Figure size 432x288 with 2 Axes>"
      ]
     },
     "metadata": {
      "needs_background": "light"
     },
     "output_type": "display_data"
    }
   ],
   "source": [
    "# import required modules\n",
    "import numpy as np\n",
    "import matplotlib.pyplot as plt\n",
    "import seaborn as sns\n",
    "\n",
    "class_names=[0,1] # name  of classes\n",
    "fig, ax = plt.subplots()\n",
    "tick_marks = np.arange(len(class_names))\n",
    "plt.xticks(tick_marks, class_names)\n",
    "plt.yticks(tick_marks, class_names)\n",
    "# create heatmap\n",
    "sns.heatmap(pd.DataFrame(cnf_matrix), annot=True, cmap=\"YlGnBu\" ,fmt='g')\n",
    "ax.xaxis.set_label_position(\"top\")\n",
    "plt.tight_layout()\n",
    "plt.title('Confusion matrix', y=1.1)\n",
    "plt.ylabel('Actual label')\n",
    "plt.xlabel('Predicted label')\n"
   ]
  },
  {
   "cell_type": "code",
   "execution_count": 23,
   "id": "978ed3a4",
   "metadata": {},
   "outputs": [
    {
     "name": "stdout",
     "output_type": "stream",
     "text": [
      "                  precision    recall  f1-score   support\n",
      "\n",
      "without diabetes       0.75      1.00      0.86         3\n",
      "   with diabetes       1.00      0.83      0.91         6\n",
      "\n",
      "        accuracy                           0.89         9\n",
      "       macro avg       0.88      0.92      0.88         9\n",
      "    weighted avg       0.92      0.89      0.89         9\n",
      "\n"
     ]
    }
   ],
   "source": [
    "from sklearn.metrics import classification_report\n",
    "target_names = ['without diabetes', 'with diabetes']\n",
    "print(classification_report(y_test, y_pred, target_names=target_names))"
   ]
  },
  {
   "cell_type": "code",
   "execution_count": 24,
   "id": "9cfb74b1",
   "metadata": {},
   "outputs": [
    {
     "data": {
      "image/png": "[encoded data removed]",
      "text/plain": [
       "<Figure size 432x288 with 1 Axes>"
      ]
     },
     "metadata": {
      "needs_background": "light"
     },
     "output_type": "display_data"
    }
   ],
   "source": [
    "y_pred_proba = logreg.predict_proba(X_test)[::,1]\n",
    "fpr, tpr, _ = metrics.roc_curve(y_test,  y_pred_proba)\n",
    "auc = metrics.roc_auc_score(y_test, y_pred_proba)\n",
    "plt.plot(fpr,tpr,label=\"data 1, auc=\"+str(auc))\n",
    "plt.legend(loc=4)\n",
    "plt.show()"
   ]
  },
  {
   "cell_type": "code",
   "execution_count": null,
   "id": "bc05c8d4",
   "metadata": {},
   "outputs": [],
   "source": [
    "    "
   ]
  }
 ],
 "metadata": {
  "kernelspec": {
   "display_name": "Python 3 (ipykernel)",
   "language": "python",
   "name": "python3"
  },
  "language_info": {
   "codemirror_mode": {
    "name": "ipython",
    "version": 3
   },
   "file_extension": ".py",
   "mimetype": "text/x-python",
   "name": "python",
   "nbconvert_exporter": "python",
   "pygments_lexer": "ipython3",
   "version": "3.9.7"
  }
 },
 "nbformat": 4,
 "nbformat_minor": 5
}
